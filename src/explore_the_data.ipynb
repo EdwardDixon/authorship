{
 "cells": [
  {
   "cell_type": "markdown",
   "metadata": {},
   "source": [
    "# Explore forum posts\n",
    "How many words per post, how many posts per author, that sort of thing.  Intended to help inform the design of our first authorship attribution models.  Note that we are including only posts with at least some text (_selftext_) and ignoring posts that are just an image/url."
   ]
  },
  {
   "cell_type": "code",
   "execution_count": 49,
   "metadata": {},
   "outputs": [
    {
     "name": "stdout",
     "output_type": "stream",
     "text": [
      "Loaded 100000\n",
      "Sample post:\n"
     ]
    },
    {
     "data": {
      "text/plain": [
       "\"I'd rather not download a torrent if at all possible. I've been looking on LetMeWatchThis.com, ch131.com, and alluc.org for months now. Nobody seems to have it. \\n\\nThanks if you can help.\""
      ]
     },
     "execution_count": 49,
     "metadata": {},
     "output_type": "execute_result"
    }
   ],
   "source": [
    "import json\n",
    "lines = open('../data/RS_2011-01', \"r\").readlines()\n",
    "posts = []\n",
    "\n",
    "i = 0\n",
    "while len(posts) < 100000 and i < len(lines):\n",
    "    try:\n",
    "        i = i + 1\n",
    "        p = json.loads(lines[i-1].rstrip())\n",
    "        \n",
    "        # Keep only posts with at least some text\n",
    "        if len(p['selftext']) == 0:\n",
    "            continue\n",
    "            \n",
    "        posts.append(p)\n",
    "    except:\n",
    "        continue\n",
    "        \n",
    "print(\"Loaded \" + str(len(posts)))\n",
    "print(\"Sample post:\")\n",
    "posts[9]['selftext']"
   ]
  },
  {
   "cell_type": "code",
   "execution_count": 50,
   "metadata": {},
   "outputs": [
    {
     "data": {
      "text/plain": [
       "dict_keys(['downs', 'link_flair_text', 'distinguished', 'media', 'url', 'link_flair_css_class', 'id', 'edited', 'num_reports', 'created_utc', 'banned_by', 'name', 'subreddit', 'title', 'author_flair_text', 'is_self', 'author', 'media_embed', 'permalink', 'author_flair_css_class', 'selftext', 'domain', 'num_comments', 'likes', 'clicked', 'thumbnail', 'saved', 'subreddit_id', 'ups', 'approved_by', 'score', 'selftext_html', 'created', 'hidden', 'over_18'])"
      ]
     },
     "execution_count": 50,
     "metadata": {},
     "output_type": "execute_result"
    }
   ],
   "source": [
    "posts[9].keys()"
   ]
  },
  {
   "cell_type": "markdown",
   "metadata": {},
   "source": [
    "## Words per post?\n",
    "This might affect our opinions about the size of the sequences we need to work with."
   ]
  },
  {
   "cell_type": "code",
   "execution_count": 51,
   "metadata": {},
   "outputs": [
    {
     "data": {
      "text/plain": [
       "<matplotlib.axes._subplots.AxesSubplot at 0x7ff1fce471d0>"
      ]
     },
     "execution_count": 51,
     "metadata": {},
     "output_type": "execute_result"
    },
    {
     "data": {
      "image/png": "[encoded data removed]",
      "text/plain": [
       "<matplotlib.figure.Figure at 0x7ff1da0957f0>"
      ]
     },
     "metadata": {},
     "output_type": "display_data"
    }
   ],
   "source": [
    "%matplotlib inline\n",
    "import matplotlib.pyplot as plt\n",
    "import pandas as pd\n",
    "\n",
    "counts = []\n",
    "for p in posts:\n",
    "    counts.append(len(p['selftext'].split(\" \")))\n",
    "    \n",
    "df = pd.DataFrame({\"counts\": counts})\n",
    "df['counts'][df['counts'] < 1000].hist()"
   ]
  },
  {
   "cell_type": "markdown",
   "metadata": {},
   "source": [
    "## How prolific?\n",
    "How many posts from the typical author?"
   ]
  },
  {
   "cell_type": "code",
   "execution_count": 52,
   "metadata": {},
   "outputs": [
    {
     "data": {
      "text/plain": [
       "<matplotlib.axes._subplots.AxesSubplot at 0x7ff1fcdcaa58>"
      ]
     },
     "execution_count": 52,
     "metadata": {},
     "output_type": "execute_result"
    },
    {
     "data": {
      "image/png": "[encoded data removed]",
      "text/plain": [
       "<matplotlib.figure.Figure at 0x7ff1fce10518>"
      ]
     },
     "metadata": {},
     "output_type": "display_data"
    }
   ],
   "source": [
    "author_counts = dict()\n",
    "for p in posts:\n",
    "    if 'author' not in p:\n",
    "        continue\n",
    "        \n",
    "    if p['author'] == '[deleted]':\n",
    "        continue\n",
    "        \n",
    "    if p['author'] not in author_counts:\n",
    "        author_counts[p['author']] = 1\n",
    "    else:\n",
    "        author_counts[p['author']] = author_counts[p['author']] + 1\n",
    "        \n",
    "df_authors = pd.DataFrame({'author': list(author_counts.keys()), 'posts': list(author_counts.values())})\n",
    "df_authors.posts.hist()"
   ]
  },
  {
   "cell_type": "code",
   "execution_count": 53,
   "metadata": {},
   "outputs": [
    {
     "data": {
      "text/html": [
       "<div>\n",
       "<style scoped>\n",
       "    .dataframe tbody tr th:only-of-type {\n",
       "        vertical-align: middle;\n",
       "    }\n",
       "\n",
       "    .dataframe tbody tr th {\n",
       "        vertical-align: top;\n",
       "    }\n",
       "\n",
       "    .dataframe thead th {\n",
       "        text-align: right;\n",
       "    }\n",
       "</style>\n",
       "<table border=\"1\" class=\"dataframe\">\n",
       "  <thead>\n",
       "    <tr style=\"text-align: right;\">\n",
       "      <th></th>\n",
       "      <th>author</th>\n",
       "      <th>posts</th>\n",
       "    </tr>\n",
       "  </thead>\n",
       "  <tbody>\n",
       "    <tr>\n",
       "      <th>940</th>\n",
       "      <td>SwirlStick</td>\n",
       "      <td>40</td>\n",
       "    </tr>\n",
       "    <tr>\n",
       "      <th>16269</th>\n",
       "      <td>rowanman281</td>\n",
       "      <td>43</td>\n",
       "    </tr>\n",
       "    <tr>\n",
       "      <th>1701</th>\n",
       "      <td>brphollis1</td>\n",
       "      <td>53</td>\n",
       "    </tr>\n",
       "    <tr>\n",
       "      <th>2143</th>\n",
       "      <td>rmm45177</td>\n",
       "      <td>64</td>\n",
       "    </tr>\n",
       "    <tr>\n",
       "      <th>623</th>\n",
       "      <td>Moregunsthanpatience</td>\n",
       "      <td>66</td>\n",
       "    </tr>\n",
       "  </tbody>\n",
       "</table>\n",
       "</div>"
      ],
      "text/plain": [
       "                     author  posts\n",
       "940              SwirlStick     40\n",
       "16269           rowanman281     43\n",
       "1701             brphollis1     53\n",
       "2143               rmm45177     64\n",
       "623    Moregunsthanpatience     66"
      ]
     },
     "execution_count": 53,
     "metadata": {},
     "output_type": "execute_result"
    }
   ],
   "source": [
    "df_authors = df_authors.sort_values(by=['posts'])\n",
    "df_authors.tail()"
   ]
  },
  {
   "cell_type": "markdown",
   "metadata": {},
   "source": [
    "### And what do their posts look like?\n",
    "Let's take a per-author look..."
   ]
  },
  {
   "cell_type": "code",
   "execution_count": 57,
   "metadata": {},
   "outputs": [
    {
     "data": {
      "text/plain": [
       "['Did your mom (bless her heart) just not know how to even boil water, but you had to eat her cooking? Does your wife burn everything? What sort of dishes did they make? What was the worst? Did they think they were any good?',\n",
       " \"This happens to me a lot. With video games, cartoons, comics, etc. I always remember how awesome they were but then when I try to watch, play, read them again they're kind of lame. Do you have something like this? A food that you enjoyed back then but can't stomach (Kraft mac &amp; cheese with cut up Oscar Meyer hot dogs). A video game (some of the old SNES games), TV shows? Books? Movies? Toys?\",\n",
       " 'What was it? Do you still use it? Have you bought any others for gifts?',\n",
       " \"I love watching Antiques Roadshow, Pawn Stars, American Picker, Hardcore Pawn, etc. It's always amazing to see what people have sitting in their attics that turns out to be worth a crap load. But it's also as entertaining to see the blokes who think they have something of value and it turns out to be rubbish. Have you ever had something which you thought was worth a great deal but wasn't. Maybe it wasn't really what you thought. Or it was damaged somehow. How much did you get it for? How much did you think it was worth and how much did it turn out to be? What did you end up doing with it?\",\n",
       " \"Do you have a particular item you stock up on? Cigarettes? Beer? Socks? What's something you get by the bucket loads and keep on hand no matter what? Post pics if you have them. I personally keep about 20 boxes of various cereals on hand at all times. (My favorite has to be Golden Grahams...followed by Cinnamon Toast Crunch, Cocoa Pebbles and Cinnamon Life). \\n\\nBe specific...what brands or types of the items do you get?\",\n",
       " 'What have you found on your credit card or bank account statements that you didn\\'t know about? A hotel room? A certain \"toy\" purchase? A crap load of clothes?',\n",
       " 'What really gets on your nerves when you go out to lunch or dinner? Loud eaters? Slow waiters? Forgetful waiters? Noisy children? Lack of dressing? A huge \"specials\" rant?',\n",
       " \"Currently...I'm going with [Loser, by Beck](http://www.youtube.com/watch?v=YgSPaXgAdzE)\",\n",
       " 'Peeing in the shower? (saves about 30 seconds) ...Picking out your outfit the evening before? (saves about 3 minutes) ...Reddit from the toilet? (saves about 30 minutes). But in all honestly....what are some of your best time saving tips and tricks?',\n",
       " 'I can remember this happening to me on a few occasions, but when I was much much younger. What was the joke that caused it? How did others around you react? Has anyone done this at a business meeting/formal dinner/at the in-laws, etc?',\n",
       " 'If you were a contestant on Who Wants To Be A Millionaire or Million Dollar Money Drop, or some other game show that the total possible winnings could net you $1,000,000...what is the least that you would be satisfied leaving with and not feeling like you missed an opportunity?',\n",
       " \"You know you've done it. What are some of the kookier things you've regifted? Has anyone got caught in a regift? How?\",\n",
       " 'I would love to ask him a couple questions. Anyone know him?',\n",
       " \"Do you [twist and dunk your Oreo's](http://www.youtube.com/watch?v=BDan7ClvO3Y)\\n like normal or do you soak them like cereal and eat with a spoon?\\n\\nDo you [domino your Reese's Peanut Butter Cups](http://www.youtube.com/watch?v=HemmX3IoHe8&amp;feature=player_embedded)?\\n\\nHow do you eat your sandwiches? Do you slice your sandwich diagonally? No crust? Never use the heal?\\n\\nDo you eat your pizza with a fork and knife? Do you fold it in half?\",\n",
       " 'And at what age does this start?',\n",
       " 'If you were to have a movie remade, which would it be? Who would you cast in it? Would you make any small changes in story line?',\n",
       " \"We've all seen the people with their kids on leashes and such, but what weird stories do you have of just horrible parenting?\",\n",
       " \"Using only ingredients you've got on hand...what's the most epic, greasy, nasty but tasty snack you could make for a bunch of friends that just showed up to watch the playoffs?\",\n",
       " 'If you had to pick just one. Your wife? Your kids? Your job? Your family? What is numero uno and why?',\n",
       " \"Only one book...or one music album..or one video game...or one movie...that's all you had for the rest of your life to entertain you. What would it be?\",\n",
       " \"I hate that crap. Especially on chips or snacks were they've already filled the bag 1/2 with air anyways.\",\n",
       " \"Is it something more recent or something from your childhood?\\n\\nIt's so hard for me to decide. I like the old stuff like The Jetsons, The Flintstones, Yogi Bear, Huckleberry Hound, Rocky &amp; Bullwinkle, anything Disney of course, anything Bugs, Tweety, Tom &amp; Jerry...I love Doug, Angry Beavers, Goof Troop, Hey Arnold!, TaleSpin, Bobby's World, Camp Candy, Casper, Recess, Spongebob, Bonkers, Pirates of Darkwater, Teenage Mutant Ninja Turtles, Transformers, G.I. Joe, Reboot, Ah, Real Monsters, Pepper Ann, The Weekenders, Rocket Power, The Simpsons, American Dad, Futurama, Family Guy, The Cleveland Show, The Critic, The Tick...goodness me, I could go on and on and on.\\n\\n**But if you had to pick one, what's your favorite and why?**\",\n",
       " 'What game were you playing? Where were you? How much did you lose? What were the consequences/results? Did you have to fess up to anyone about it? ',\n",
       " 'Like taking your Cheerios and dumping loads of sugar on them...or broccoli with globs of Cheese Wiz. What foods do you do similar things with and do you ever just have them the \"healthy\" way?',\n",
       " 'Me and my brothers used to do this to hilarious results.',\n",
       " 'What happened? How did you manage the situation? What led up to this most embarrassing moment?',\n",
       " \"I'm sure a lot will say...their child or something like that, but what physical thing of value have you either not known it was of value and then found out it had quite a lot, or just something you found somewhere. \\n\\nMaybe a $100 bill in the pocket of a coat you bought at a thrift store? A winning lottery ticket on the ground? A tea set in your grandmas attic that turned out to be worth a crap ton. \\n\\nWhere did you get/find it? How much was it worth? What did you do with it?\",\n",
       " 'I guess the question is, what do you do most that would really annoy you if you had to deal with you?',\n",
       " \"By now hopefully everyone knows about In-N-Outs secret menu. But along those lines...what sort of hacks or tricks do you employ at fast food joints? Like getting a $1 double cheeseburger at McDonald's and asking for special sauce and lettuce to make a quasi-BigMac...what do you got like this Reddit?\",\n",
       " 'Either something that actually woke you up...or something that had occurred during your sleep that you had no idea how it took place.',\n",
       " \"Assuming you were low-balled on all your goods (meaning...don't be too lofty thinking you're going to get $500 for your PS3 and game collection), what item(s) of yours would you pawn first to try and get the total $500?\",\n",
       " \"We've all got a shit load of problems...but what don't you got as one?\",\n",
       " 'If you could own any car whatsoever but have to use only that car for the rest of your life, which would it be and why?',\n",
       " 'From the viewpoint of the franchisee and what \"corporate\" has you do without your willingness necessarily. What type of franchise is it? Retail/Food service. etc. Are you still in business? How much did you invest? Is it worth it?',\n",
       " '....and how long did you wear it for? And why did you have to wear it?',\n",
       " 'If your touch could change items to be made into another form...what would you change and what form would you change it to and why? ',\n",
       " 'Maybe while standing in line for your coffee order or while looking for a book at the library. What is the all-time weirdest thing a total stranger has said to you?',\n",
       " 'Inspired [by this post](http://haphappy.com/2011/01/growing-up-sucks/), it got me thinking, aside from the innocence...it\\'s hard to decide. I love some many things about growing up...eating what I wanted ([Bagel Bites](http://i.imgur.com/IpFI0.jpg), [SuperPretzels](http://i.imgur.com/01lTE.jpg), Ramen), the TV shows (anything Nickelodeon, Kenan &amp; Kel, Doug, Home Improvement), the Movies (Flight of the Navigator, The Wizard, Karate Kid, 3 Ninjas), the games (Twisted Metal, GoldenEye, Mario Party, Mario Kart), the toys (RC Cars, Lincoln Logs, LEGOS)....I could go on and on and on about all of these....**but if you had to pick just one thing you miss most from your childhood, what would it be?**\\n\\n\\nI\\'ll have to go with the joy of just before opening an new pack of baseball cards, not knowing what you were going to find inside and hoping that it would be \"the big one\"! ',\n",
       " \"...and do any of you have an extra you'd want to sell?\",\n",
       " \"Hopefully we can keep this clean boys...anyways, my favorite is the [smell after it rains](http://science.howstuffworks.com/nature/climate-weather/atmospheric/question479.htm). What's your favorite smell or scent?\"]"
      ]
     },
     "execution_count": 57,
     "metadata": {},
     "output_type": "execute_result"
    }
   ],
   "source": [
    "target_author = \"SwirlStick\"\n",
    "samples = []\n",
    "for p in posts:\n",
    "    if 'author' not in p:\n",
    "        continue\n",
    "    \n",
    "    if p['author'] == target_author:\n",
    "        samples.append(p['selftext'])\n",
    "    \n",
    "samples"
   ]
  },
  {
   "cell_type": "code",
   "execution_count": null,
   "metadata": {},
   "outputs": [],
   "source": []
  }
 ],
 "metadata": {
  "kernelspec": {
   "display_name": "Python 3",
   "language": "python",
   "name": "python3"
  }
 },
 "nbformat": 4,
 "nbformat_minor": 2
}
