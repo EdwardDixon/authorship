{
 "cells": [
  {
   "cell_type": "markdown",
   "metadata": {},
   "source": [
    "# Explore forum posts\n",
    "How many words per post, how many posts per author, that sort of thing.  Intended to help inform the design of our authorship attribution models.  Note that we are including only posts with at least some text (_selftext_) and ignoring posts that are just an image/url."
   ]
  },
  {
   "cell_type": "code",
   "execution_count": 1,
   "metadata": {},
   "outputs": [
    {
     "name": "stdout",
     "output_type": "stream",
     "text": [
      "Loaded 178883 posts.\n",
      "Sample post:\n"
     ]
    },
    {
     "data": {
      "text/plain": [
       "\"I'd rather not download a torrent if at all possible. I've been looking on LetMeWatchThis.com, ch131.com, and alluc.org for months now. Nobody seems to have it. \\n\\nThanks if you can help.\""
      ]
     },
     "execution_count": 1,
     "metadata": {},
     "output_type": "execute_result"
    }
   ],
   "source": [
    "import json\n",
    "lines = open('../data/RS_2011-01', \"r\").readlines()\n",
    "posts = []\n",
    "\n",
    "i = 0\n",
    "while len(posts) < 1000000 and i < len(lines):\n",
    "    try:\n",
    "        i = i + 1\n",
    "        p = json.loads(lines[i-1].rstrip())\n",
    "        \n",
    "        # Keep only posts with at least some text\n",
    "        if len(p['selftext']) == 0:\n",
    "            continue\n",
    "            \n",
    "        posts.append(p)\n",
    "    except:\n",
    "        continue\n",
    "        \n",
    "print(\"Loaded \" + str(len(posts)) + \" posts.\")\n",
    "print(\"Sample post:\")\n",
    "posts[9]['selftext']"
   ]
  },
  {
   "cell_type": "code",
   "execution_count": 2,
   "metadata": {},
   "outputs": [
    {
     "data": {
      "text/plain": [
       "dict_keys(['downs', 'link_flair_text', 'distinguished', 'media', 'url', 'link_flair_css_class', 'id', 'edited', 'num_reports', 'created_utc', 'banned_by', 'name', 'subreddit', 'title', 'author_flair_text', 'is_self', 'author', 'media_embed', 'permalink', 'author_flair_css_class', 'selftext', 'domain', 'num_comments', 'likes', 'clicked', 'thumbnail', 'saved', 'subreddit_id', 'ups', 'approved_by', 'score', 'selftext_html', 'created', 'hidden', 'over_18'])"
      ]
     },
     "execution_count": 2,
     "metadata": {},
     "output_type": "execute_result"
    }
   ],
   "source": [
    "posts[9].keys()"
   ]
  },
  {
   "cell_type": "markdown",
   "metadata": {},
   "source": [
    "## Words per post?\n",
    "This might affect our opinions about the size of the sequences we need to work with."
   ]
  },
  {
   "cell_type": "code",
   "execution_count": 4,
   "metadata": {},
   "outputs": [
    {
     "data": {
      "text/plain": [
       "<matplotlib.axes._subplots.AxesSubplot at 0x7f47717fb128>"
      ]
     },
     "execution_count": 4,
     "metadata": {},
     "output_type": "execute_result"
    },
    {
     "data": {
      "image/png": "[encoded data removed]",
      "text/plain": [
       "<matplotlib.figure.Figure at 0x7f47717b7438>"
      ]
     },
     "metadata": {},
     "output_type": "display_data"
    }
   ],
   "source": [
    "%matplotlib inline\n",
    "import matplotlib.pyplot as plt\n",
    "import pandas as pd\n",
    "\n",
    "counts = []\n",
    "for p in posts:\n",
    "    counts.append(len(p['selftext'].split(\" \")))\n",
    "    \n",
    "df = pd.DataFrame({\"counts\": counts})\n",
    "df['counts'][df['counts'] < 1000].hist()"
   ]
  },
  {
   "cell_type": "markdown",
   "metadata": {},
   "source": [
    "## How prolific?\n",
    "How many posts from the typical author?"
   ]
  },
  {
   "cell_type": "code",
   "execution_count": 5,
   "metadata": {},
   "outputs": [
    {
     "data": {
      "text/plain": [
       "<matplotlib.axes._subplots.AxesSubplot at 0x7f477172de80>"
      ]
     },
     "execution_count": 5,
     "metadata": {},
     "output_type": "execute_result"
    },
    {
     "data": {
      "image/png": "[encoded data removed]",
      "text/plain": [
       "<matplotlib.figure.Figure at 0x7f477c5e1198>"
      ]
     },
     "metadata": {},
     "output_type": "display_data"
    }
   ],
   "source": [
    "author_counts = dict()\n",
    "for p in posts:\n",
    "    if 'author' not in p:\n",
    "        continue\n",
    "        \n",
    "    if p['author'] == '[deleted]':\n",
    "        continue\n",
    "        \n",
    "    if p['author'] not in author_counts:\n",
    "        author_counts[p['author']] = 1\n",
    "    else:\n",
    "        author_counts[p['author']] = author_counts[p['author']] + 1\n",
    "        \n",
    "df_authors = pd.DataFrame({'author': list(author_counts.keys()), 'posts': list(author_counts.values())})\n",
    "df_authors.posts.hist()"
   ]
  },
  {
   "cell_type": "markdown",
   "metadata": {},
   "source": [
    "How many authors?"
   ]
  },
  {
   "cell_type": "code",
   "execution_count": 6,
   "metadata": {},
   "outputs": [
    {
     "name": "stdout",
     "output_type": "stream",
     "text": [
      "67811\n"
     ]
    }
   ],
   "source": [
    "print(len(df_authors.author.unique()))"
   ]
  },
  {
   "cell_type": "markdown",
   "metadata": {},
   "source": [
    "How many posts from our top/best-case authors?"
   ]
  },
  {
   "cell_type": "code",
   "execution_count": 7,
   "metadata": {},
   "outputs": [
    {
     "data": {
      "text/html": [
       "<div>\n",
       "<style scoped>\n",
       "    .dataframe tbody tr th:only-of-type {\n",
       "        vertical-align: middle;\n",
       "    }\n",
       "\n",
       "    .dataframe tbody tr th {\n",
       "        vertical-align: top;\n",
       "    }\n",
       "\n",
       "    .dataframe thead th {\n",
       "        text-align: right;\n",
       "    }\n",
       "</style>\n",
       "<table border=\"1\" class=\"dataframe\">\n",
       "  <thead>\n",
       "    <tr style=\"text-align: right;\">\n",
       "      <th></th>\n",
       "      <th>author</th>\n",
       "      <th>posts</th>\n",
       "    </tr>\n",
       "  </thead>\n",
       "  <tbody>\n",
       "    <tr>\n",
       "      <th>12957</th>\n",
       "      <td>toofrat</td>\n",
       "      <td>63</td>\n",
       "    </tr>\n",
       "    <tr>\n",
       "      <th>1592</th>\n",
       "      <td>recordratus</td>\n",
       "      <td>66</td>\n",
       "    </tr>\n",
       "    <tr>\n",
       "      <th>1701</th>\n",
       "      <td>brphollis1</td>\n",
       "      <td>79</td>\n",
       "    </tr>\n",
       "    <tr>\n",
       "      <th>623</th>\n",
       "      <td>Moregunsthanpatience</td>\n",
       "      <td>92</td>\n",
       "    </tr>\n",
       "    <tr>\n",
       "      <th>2143</th>\n",
       "      <td>rmm45177</td>\n",
       "      <td>106</td>\n",
       "    </tr>\n",
       "  </tbody>\n",
       "</table>\n",
       "</div>"
      ],
      "text/plain": [
       "                     author  posts\n",
       "12957               toofrat     63\n",
       "1592            recordratus     66\n",
       "1701             brphollis1     79\n",
       "623    Moregunsthanpatience     92\n",
       "2143               rmm45177    106"
      ]
     },
     "execution_count": 7,
     "metadata": {},
     "output_type": "execute_result"
    }
   ],
   "source": [
    "df_authors = df_authors.sort_values(by=['posts'])\n",
    "df_authors.tail()"
   ]
  },
  {
   "cell_type": "markdown",
   "metadata": {},
   "source": [
    "### And what do their posts look like?\n",
    "Let's take a per-author look..."
   ]
  },
  {
   "cell_type": "code",
   "execution_count": 8,
   "metadata": {},
   "outputs": [
    {
     "data": {
      "text/plain": [
       "['Did your mom (bless her heart) just not know how to even boil water, but you had to eat her cooking? Does your wife burn everything? What sort of dishes did they make? What was the worst? Did they think they were any good?',\n",
       " \"This happens to me a lot. With video games, cartoons, comics, etc. I always remember how awesome they were but then when I try to watch, play, read them again they're kind of lame. Do you have something like this? A food that you enjoyed back then but can't stomach (Kraft mac &amp; cheese with cut up Oscar Meyer hot dogs). A video game (some of the old SNES games), TV shows? Books? Movies? Toys?\",\n",
       " 'What was it? Do you still use it? Have you bought any others for gifts?',\n",
       " \"I love watching Antiques Roadshow, Pawn Stars, American Picker, Hardcore Pawn, etc. It's always amazing to see what people have sitting in their attics that turns out to be worth a crap load. But it's also as entertaining to see the blokes who think they have something of value and it turns out to be rubbish. Have you ever had something which you thought was worth a great deal but wasn't. Maybe it wasn't really what you thought. Or it was damaged somehow. How much did you get it for? How much did you think it was worth and how much did it turn out to be? What did you end up doing with it?\",\n",
       " \"Do you have a particular item you stock up on? Cigarettes? Beer? Socks? What's something you get by the bucket loads and keep on hand no matter what? Post pics if you have them. I personally keep about 20 boxes of various cereals on hand at all times. (My favorite has to be Golden Grahams...followed by Cinnamon Toast Crunch, Cocoa Pebbles and Cinnamon Life). \\n\\nBe specific...what brands or types of the items do you get?\",\n",
       " 'What have you found on your credit card or bank account statements that you didn\\'t know about? A hotel room? A certain \"toy\" purchase? A crap load of clothes?',\n",
       " 'What really gets on your nerves when you go out to lunch or dinner? Loud eaters? Slow waiters? Forgetful waiters? Noisy children? Lack of dressing? A huge \"specials\" rant?',\n",
       " \"Currently...I'm going with [Loser, by Beck](http://www.youtube.com/watch?v=YgSPaXgAdzE)\",\n",
       " 'Peeing in the shower? (saves about 30 seconds) ...Picking out your outfit the evening before? (saves about 3 minutes) ...Reddit from the toilet? (saves about 30 minutes). But in all honestly....what are some of your best time saving tips and tricks?',\n",
       " 'I can remember this happening to me on a few occasions, but when I was much much younger. What was the joke that caused it? How did others around you react? Has anyone done this at a business meeting/formal dinner/at the in-laws, etc?',\n",
       " 'If you were a contestant on Who Wants To Be A Millionaire or Million Dollar Money Drop, or some other game show that the total possible winnings could net you $1,000,000...what is the least that you would be satisfied leaving with and not feeling like you missed an opportunity?',\n",
       " \"You know you've done it. What are some of the kookier things you've regifted? Has anyone got caught in a regift? How?\",\n",
       " 'I would love to ask him a couple questions. Anyone know him?',\n",
       " \"Do you [twist and dunk your Oreo's](http://www.youtube.com/watch?v=BDan7ClvO3Y)\\n like normal or do you soak them like cereal and eat with a spoon?\\n\\nDo you [domino your Reese's Peanut Butter Cups](http://www.youtube.com/watch?v=HemmX3IoHe8&amp;feature=player_embedded)?\\n\\nHow do you eat your sandwiches? Do you slice your sandwich diagonally? No crust? Never use the heal?\\n\\nDo you eat your pizza with a fork and knife? Do you fold it in half?\",\n",
       " 'And at what age does this start?',\n",
       " 'If you were to have a movie remade, which would it be? Who would you cast in it? Would you make any small changes in story line?',\n",
       " \"We've all seen the people with their kids on leashes and such, but what weird stories do you have of just horrible parenting?\",\n",
       " \"Using only ingredients you've got on hand...what's the most epic, greasy, nasty but tasty snack you could make for a bunch of friends that just showed up to watch the playoffs?\",\n",
       " 'If you had to pick just one. Your wife? Your kids? Your job? Your family? What is numero uno and why?',\n",
       " \"Only one book...or one music album..or one video game...or one movie...that's all you had for the rest of your life to entertain you. What would it be?\",\n",
       " \"I hate that crap. Especially on chips or snacks were they've already filled the bag 1/2 with air anyways.\",\n",
       " \"Is it something more recent or something from your childhood?\\n\\nIt's so hard for me to decide. I like the old stuff like The Jetsons, The Flintstones, Yogi Bear, Huckleberry Hound, Rocky &amp; Bullwinkle, anything Disney of course, anything Bugs, Tweety, Tom &amp; Jerry...I love Doug, Angry Beavers, Goof Troop, Hey Arnold!, TaleSpin, Bobby's World, Camp Candy, Casper, Recess, Spongebob, Bonkers, Pirates of Darkwater, Teenage Mutant Ninja Turtles, Transformers, G.I. Joe, Reboot, Ah, Real Monsters, Pepper Ann, The Weekenders, Rocket Power, The Simpsons, American Dad, Futurama, Family Guy, The Cleveland Show, The Critic, The Tick...goodness me, I could go on and on and on.\\n\\n**But if you had to pick one, what's your favorite and why?**\",\n",
       " 'What game were you playing? Where were you? How much did you lose? What were the consequences/results? Did you have to fess up to anyone about it? ',\n",
       " 'Like taking your Cheerios and dumping loads of sugar on them...or broccoli with globs of Cheese Wiz. What foods do you do similar things with and do you ever just have them the \"healthy\" way?',\n",
       " 'Me and my brothers used to do this to hilarious results.',\n",
       " 'What happened? How did you manage the situation? What led up to this most embarrassing moment?',\n",
       " \"I'm sure a lot will say...their child or something like that, but what physical thing of value have you either not known it was of value and then found out it had quite a lot, or just something you found somewhere. \\n\\nMaybe a $100 bill in the pocket of a coat you bought at a thrift store? A winning lottery ticket on the ground? A tea set in your grandmas attic that turned out to be worth a crap ton. \\n\\nWhere did you get/find it? How much was it worth? What did you do with it?\",\n",
       " 'I guess the question is, what do you do most that would really annoy you if you had to deal with you?',\n",
       " \"By now hopefully everyone knows about In-N-Outs secret menu. But along those lines...what sort of hacks or tricks do you employ at fast food joints? Like getting a $1 double cheeseburger at McDonald's and asking for special sauce and lettuce to make a quasi-BigMac...what do you got like this Reddit?\",\n",
       " 'Either something that actually woke you up...or something that had occurred during your sleep that you had no idea how it took place.',\n",
       " \"Assuming you were low-balled on all your goods (meaning...don't be too lofty thinking you're going to get $500 for your PS3 and game collection), what item(s) of yours would you pawn first to try and get the total $500?\",\n",
       " \"We've all got a shit load of problems...but what don't you got as one?\",\n",
       " 'If you could own any car whatsoever but have to use only that car for the rest of your life, which would it be and why?',\n",
       " 'From the viewpoint of the franchisee and what \"corporate\" has you do without your willingness necessarily. What type of franchise is it? Retail/Food service. etc. Are you still in business? How much did you invest? Is it worth it?',\n",
       " '....and how long did you wear it for? And why did you have to wear it?',\n",
       " 'If your touch could change items to be made into another form...what would you change and what form would you change it to and why? ',\n",
       " 'Maybe while standing in line for your coffee order or while looking for a book at the library. What is the all-time weirdest thing a total stranger has said to you?',\n",
       " 'Inspired [by this post](http://haphappy.com/2011/01/growing-up-sucks/), it got me thinking, aside from the innocence...it\\'s hard to decide. I love some many things about growing up...eating what I wanted ([Bagel Bites](http://i.imgur.com/IpFI0.jpg), [SuperPretzels](http://i.imgur.com/01lTE.jpg), Ramen), the TV shows (anything Nickelodeon, Kenan &amp; Kel, Doug, Home Improvement), the Movies (Flight of the Navigator, The Wizard, Karate Kid, 3 Ninjas), the games (Twisted Metal, GoldenEye, Mario Party, Mario Kart), the toys (RC Cars, Lincoln Logs, LEGOS)....I could go on and on and on about all of these....**but if you had to pick just one thing you miss most from your childhood, what would it be?**\\n\\n\\nI\\'ll have to go with the joy of just before opening an new pack of baseball cards, not knowing what you were going to find inside and hoping that it would be \"the big one\"! ',\n",
       " \"...and do any of you have an extra you'd want to sell?\",\n",
       " \"Hopefully we can keep this clean boys...anyways, my favorite is the [smell after it rains](http://science.howstuffworks.com/nature/climate-weather/atmospheric/question479.htm). What's your favorite smell or scent?\",\n",
       " \"What were those things that your parents wouldn't let you do, Sun-Thurs nights? We didn't really have much in way of desserts...no horror movies...most often couldn't sleep at friend's houses.\",\n",
       " \"Explain the craziest storm you've been right in the middle of? How did you survive? What was the worst thing that you saw and what was the worst thing that happened to you?\",\n",
       " \"What's that thing that you do that you wouldn't want anyone to know or realize that you indulge in? A full box of Twinkies when you get upset. Throwing on an old Panic At The Disco! CD and dancing around in your undies? Watching Judge Judy for hours on end? Mine is probably watching American Idol.\\n\\n**What's that thing that you love to do that you wouldn't want others to know about because they would just mock you to now end. **\",\n",
       " \"As soon as I get the tracking email I check it over and over. Yet the time of arrival is almost always accurate and never changes....but I can't stop checking. I always hope that it sped up or something.\",\n",
       " \"...or I guess it could go the other way around too...either way, what's the stupidest thing that you or they said that got them (or you) in the most trouble? What was the end result?\",\n",
       " \"When you like someone you get all giddy and nervous, making you do some pretty unexpected things. What's the most embarrassing thing you've done in front of someone you liked?\\n\\nFor me, it wasn't too much, but during lunch in high school I was totally staring at this girl I liked, and completely ate shit falling down four stairs, dropping all my food and just looking like a total ass. Everyone saw it and I pretty much just had to jump up, dust off and walk away.\\n\\n\",\n",
       " \"Come on....like he would be able to pull that? Well since we're on the topic...who was your favorite Seinfeld girlfriend?\",\n",
       " \"With all their innocence, sometimes kids say things that anyone older could never get away with. What's the funniest one you've heard?\",\n",
       " \"I loved Kid's Say The Darnedest Thing with Bill Cosby. What is the most adorable or cutest thing a child has said to you?\",\n",
       " 'I can\\'t wait for that point in my life when I can get away with saying insane things and people just shrug it off as...\"oh that\\'s just grandpa..don\\'t mind him\"',\n",
       " \"That thing that you never could have imagined you'd do or say...but for whatever reason it just happened or came out.\",\n",
       " 'Did your mom post on your Facebook wall? Did your Uncle post embarrassing pictures from Christmas dinner and tag you in them?',\n",
       " 'What was the item? How long did it take to arrive? Were/are you satisfied with it?',\n",
       " \"Like [George's comeback on Seinfeld](http://www.youtube.com/watch?v=xwfioD-ING8), what's the best one-liner you've given someone as a comeback?\",\n",
       " 'Maybe you\\'d been trying to fix something and had an \"aha\" moment and felt really good about it...only to realize you had been doing it wrong all along and was really just a simple fix.',\n",
       " 'Which type of elf would you be and why?',\n",
       " \"I'd be a damn Keebler elf...making cookies and brownies in a tree all day, that's the life.\",\n",
       " \"Either you just completely refuse to, or won't the opportunity. I hear od people that have never been to the ocean, that's so strange to me. Or never been to the snow. Or never learned to swim or drive a car.\",\n",
       " 'I think I was meant to be apart of the 14th century. I would ove to be part of a royal family in some way. Eating in large halls, with ale and loads of pork...I just think this was my time period...what about you?',\n",
       " 'Is there something that you eat that your kitty or puppy or reptile (or whatever pet you have) loves? My kitty likes scrambled eggs but HATES hot sauce...so he never gets any of my breakfast.',\n",
       " 'The \"History\" Channel has a Pawn Stars marathon going right now and I must say that I really love this show. I find so many things to be good about it. I love the Oldman\\'s orneriness, I love Chumlee\\'s just general idiotic yet hilarious sayings, I love Rick\\'s way that he \"dicks\" people into selling their items at ridiculous prices...I love the items themselves and their history. I love the detail that the experts go into and their amazing amount of knowledge about them.\\n\\nWhat\\'s your favorite part of the show?\\n\\n**Has anyone ever been into the shop?** How was it? Did you see the guys? Did you buy/sell/pawn anything?\\n\\nEDIT: \"When a guy walks in withing something clearly unique, why hasn\\'t he taken it to Sotheby\\'s or Christie\\'s?\" - [\"I have cash!\"](http://www.youtube.com/watch?feature=player_detailpage&amp;v=2SkE8XkDlWg#t=156s)',\n",
       " \"I know they're all so amazing...and it's hard to choose one...but which is your favorite?\"]"
      ]
     },
     "execution_count": 8,
     "metadata": {},
     "output_type": "execute_result"
    }
   ],
   "source": [
    "target_author = \"SwirlStick\"\n",
    "samples = []\n",
    "for p in posts:\n",
    "    if 'author' not in p:\n",
    "        continue\n",
    "    \n",
    "    if p['author'] == target_author:\n",
    "        samples.append(p['selftext'])\n",
    "    \n",
    "samples"
   ]
  },
  {
   "cell_type": "markdown",
   "metadata": {},
   "source": [
    "## Prepare for training\n",
    "Strip down to the essentials - text of the post, author name"
   ]
  },
  {
   "cell_type": "code",
   "execution_count": 9,
   "metadata": {},
   "outputs": [
    {
     "data": {
      "text/html": [
       "<div>\n",
       "<style scoped>\n",
       "    .dataframe tbody tr th:only-of-type {\n",
       "        vertical-align: middle;\n",
       "    }\n",
       "\n",
       "    .dataframe tbody tr th {\n",
       "        vertical-align: top;\n",
       "    }\n",
       "\n",
       "    .dataframe thead th {\n",
       "        text-align: right;\n",
       "    }\n",
       "</style>\n",
       "<table border=\"1\" class=\"dataframe\">\n",
       "  <thead>\n",
       "    <tr style=\"text-align: right;\">\n",
       "      <th></th>\n",
       "      <th>author</th>\n",
       "      <th>text</th>\n",
       "    </tr>\n",
       "  </thead>\n",
       "  <tbody>\n",
       "    <tr>\n",
       "      <th>0</th>\n",
       "      <td>thenewguy729</td>\n",
       "      <td>So I bought Amnesia on the Steam sale the othe...</td>\n",
       "    </tr>\n",
       "    <tr>\n",
       "      <th>1</th>\n",
       "      <td>deathmouse</td>\n",
       "      <td>let's discuss this in detail.\\r\\n\\r\\ni'm in th...</td>\n",
       "    </tr>\n",
       "    <tr>\n",
       "      <th>2</th>\n",
       "      <td>thomasmcnlt6</td>\n",
       "      <td>I've just bought a tooth paste key, a little c...</td>\n",
       "    </tr>\n",
       "    <tr>\n",
       "      <th>3</th>\n",
       "      <td>acdev</td>\n",
       "      <td>The articles ([here](http://www.laxmagazine.co...</td>\n",
       "    </tr>\n",
       "    <tr>\n",
       "      <th>4</th>\n",
       "      <td>Everseer</td>\n",
       "      <td>Katey says:\\n\\n i bought a glockenspiel\\n\\n\\nN...</td>\n",
       "    </tr>\n",
       "  </tbody>\n",
       "</table>\n",
       "</div>"
      ],
      "text/plain": [
       "         author                                               text\n",
       "0  thenewguy729  So I bought Amnesia on the Steam sale the othe...\n",
       "1    deathmouse  let's discuss this in detail.\\r\\n\\r\\ni'm in th...\n",
       "2  thomasmcnlt6  I've just bought a tooth paste key, a little c...\n",
       "3         acdev  The articles ([here](http://www.laxmagazine.co...\n",
       "4      Everseer  Katey says:\\n\\n i bought a glockenspiel\\n\\n\\nN..."
      ]
     },
     "execution_count": 9,
     "metadata": {},
     "output_type": "execute_result"
    }
   ],
   "source": [
    "post_author = []\n",
    "post_content = []\n",
    "for p in posts:\n",
    "    if p['author'] != '[deleted]' and author_counts[p['author']] >= 10:\n",
    "        post_author.append(p['author'])\n",
    "        post_content.append(p['selftext'])\n",
    "\n",
    "df_post_and_author = pd.DataFrame({\"author\":post_author, \"text\":post_content})\n",
    "df_post_and_author.to_csv(\"../data/sample_author_and_post.csv\", index=False)\n",
    "df_post_and_author.head()"
   ]
  },
  {
   "cell_type": "markdown",
   "metadata": {},
   "source": [
    "How many samples do we have?"
   ]
  },
  {
   "cell_type": "code",
   "execution_count": 10,
   "metadata": {},
   "outputs": [
    {
     "name": "stdout",
     "output_type": "stream",
     "text": [
      "11104\n"
     ]
    }
   ],
   "source": [
    "print(df_post_and_author.shape[0])"
   ]
  },
  {
   "cell_type": "markdown",
   "metadata": {},
   "source": [
    "How many authors in our sample?"
   ]
  },
  {
   "cell_type": "code",
   "execution_count": 11,
   "metadata": {},
   "outputs": [
    {
     "name": "stdout",
     "output_type": "stream",
     "text": [
      "740\n"
     ]
    }
   ],
   "source": [
    "print(len(set(df_post_and_author.author)))"
   ]
  },
  {
   "cell_type": "markdown",
   "metadata": {},
   "source": [
    "Words per author?"
   ]
  },
  {
   "cell_type": "code",
   "execution_count": 12,
   "metadata": {},
   "outputs": [
    {
     "data": {
      "image/png": "[encoded data removed]",
      "text/plain": [
       "<matplotlib.figure.Figure at 0x7f47716f8908>"
      ]
     },
     "metadata": {},
     "output_type": "display_data"
    }
   ],
   "source": [
    "import matplotlib.mlab as mlab\n",
    "\n",
    "post_word_count = df_post_and_author.text.apply(lambda x: len(x.split(\" \")))\n",
    "df_post_and_author['word_count'] = post_word_count\n",
    "words_per_author = df_post_and_author.groupby(['author'])['word_count'].sum()\n",
    "\n",
    "num_bins = 20\n",
    "\n",
    "fig, ax = plt.subplots()\n",
    "\n",
    "# the histogram of the data\n",
    "n, bins, patches = ax.hist(words_per_author, num_bins)\n",
    "\n",
    "# add a 'best fit' line\n",
    "#y = mlab.normpdf(bins)\n",
    "#ax.plot(bins, y, '--')\n",
    "ax.set_xlabel('Word count')\n",
    "ax.set_ylabel('Authors')\n",
    "ax.set_title(r'Histogram of word counts')\n",
    "\n",
    "# Tweak spacing to prevent clipping of ylabel\n",
    "fig.tight_layout()\n",
    "plt.show()"
   ]
  },
  {
   "cell_type": "markdown",
   "metadata": {},
   "source": [
    "Now, we prepare our data for easy ingestion by FastAI. Labels should be in the first column, but first we'll replace our author names with a numeric code."
   ]
  },
  {
   "cell_type": "code",
   "execution_count": 21,
   "metadata": {},
   "outputs": [
    {
     "data": {
      "text/html": [
       "<div>\n",
       "<style scoped>\n",
       "    .dataframe tbody tr th:only-of-type {\n",
       "        vertical-align: middle;\n",
       "    }\n",
       "\n",
       "    .dataframe tbody tr th {\n",
       "        vertical-align: top;\n",
       "    }\n",
       "\n",
       "    .dataframe thead th {\n",
       "        text-align: right;\n",
       "    }\n",
       "</style>\n",
       "<table border=\"1\" class=\"dataframe\">\n",
       "  <thead>\n",
       "    <tr style=\"text-align: right;\">\n",
       "      <th></th>\n",
       "      <th>author</th>\n",
       "      <th>text</th>\n",
       "      <th>word_count</th>\n",
       "      <th>label</th>\n",
       "    </tr>\n",
       "  </thead>\n",
       "  <tbody>\n",
       "    <tr>\n",
       "      <th>0</th>\n",
       "      <td>thenewguy729</td>\n",
       "      <td>So I bought Amnesia on the Steam sale the othe...</td>\n",
       "      <td>141</td>\n",
       "      <td>645</td>\n",
       "    </tr>\n",
       "    <tr>\n",
       "      <th>1</th>\n",
       "      <td>deathmouse</td>\n",
       "      <td>let's discuss this in detail.\\r\\n\\r\\ni'm in th...</td>\n",
       "      <td>38</td>\n",
       "      <td>68</td>\n",
       "    </tr>\n",
       "    <tr>\n",
       "      <th>2</th>\n",
       "      <td>thomasmcnlt6</td>\n",
       "      <td>I've just bought a tooth paste key, a little c...</td>\n",
       "      <td>40</td>\n",
       "      <td>417</td>\n",
       "    </tr>\n",
       "    <tr>\n",
       "      <th>3</th>\n",
       "      <td>acdev</td>\n",
       "      <td>The articles ([here](http://www.laxmagazine.co...</td>\n",
       "      <td>179</td>\n",
       "      <td>318</td>\n",
       "    </tr>\n",
       "    <tr>\n",
       "      <th>4</th>\n",
       "      <td>Everseer</td>\n",
       "      <td>Katey says:\\n\\n i bought a glockenspiel\\n\\n\\nN...</td>\n",
       "      <td>78</td>\n",
       "      <td>118</td>\n",
       "    </tr>\n",
       "  </tbody>\n",
       "</table>\n",
       "</div>"
      ],
      "text/plain": [
       "         author                                               text  \\\n",
       "0  thenewguy729  So I bought Amnesia on the Steam sale the othe...   \n",
       "1    deathmouse  let's discuss this in detail.\\r\\n\\r\\ni'm in th...   \n",
       "2  thomasmcnlt6  I've just bought a tooth paste key, a little c...   \n",
       "3         acdev  The articles ([here](http://www.laxmagazine.co...   \n",
       "4      Everseer  Katey says:\\n\\n i bought a glockenspiel\\n\\n\\nN...   \n",
       "\n",
       "   word_count  label  \n",
       "0         141    645  \n",
       "1          38     68  \n",
       "2          40    417  \n",
       "3         179    318  \n",
       "4          78    118  "
      ]
     },
     "execution_count": 21,
     "metadata": {},
     "output_type": "execute_result"
    }
   ],
   "source": [
    "keys = list(set(df_post_and_author.author))\n",
    "values = list(range(0, len(keys)))\n",
    "author_to_label = dict(zip(keys, values))\n",
    "df_post_and_author['label'] = df_post_and_author['author'].apply(lambda x: author_to_label[x])\n",
    "df_post_and_author.head()                                                               "
   ]
  },
  {
   "cell_type": "code",
   "execution_count": 23,
   "metadata": {},
   "outputs": [
    {
     "data": {
      "text/html": [
       "<div>\n",
       "<style scoped>\n",
       "    .dataframe tbody tr th:only-of-type {\n",
       "        vertical-align: middle;\n",
       "    }\n",
       "\n",
       "    .dataframe tbody tr th {\n",
       "        vertical-align: top;\n",
       "    }\n",
       "\n",
       "    .dataframe thead th {\n",
       "        text-align: right;\n",
       "    }\n",
       "</style>\n",
       "<table border=\"1\" class=\"dataframe\">\n",
       "  <thead>\n",
       "    <tr style=\"text-align: right;\">\n",
       "      <th></th>\n",
       "      <th>label</th>\n",
       "      <th>text</th>\n",
       "    </tr>\n",
       "  </thead>\n",
       "  <tbody>\n",
       "    <tr>\n",
       "      <th>0</th>\n",
       "      <td>645</td>\n",
       "      <td>So I bought Amnesia on the Steam sale the othe...</td>\n",
       "    </tr>\n",
       "    <tr>\n",
       "      <th>1</th>\n",
       "      <td>68</td>\n",
       "      <td>let's discuss this in detail.\\r\\n\\r\\ni'm in th...</td>\n",
       "    </tr>\n",
       "    <tr>\n",
       "      <th>2</th>\n",
       "      <td>417</td>\n",
       "      <td>I've just bought a tooth paste key, a little c...</td>\n",
       "    </tr>\n",
       "    <tr>\n",
       "      <th>3</th>\n",
       "      <td>318</td>\n",
       "      <td>The articles ([here](http://www.laxmagazine.co...</td>\n",
       "    </tr>\n",
       "    <tr>\n",
       "      <th>4</th>\n",
       "      <td>118</td>\n",
       "      <td>Katey says:\\n\\n i bought a glockenspiel\\n\\n\\nN...</td>\n",
       "    </tr>\n",
       "  </tbody>\n",
       "</table>\n",
       "</div>"
      ],
      "text/plain": [
       "   label                                               text\n",
       "0    645  So I bought Amnesia on the Steam sale the othe...\n",
       "1     68  let's discuss this in detail.\\r\\n\\r\\ni'm in th...\n",
       "2    417  I've just bought a tooth paste key, a little c...\n",
       "3    318  The articles ([here](http://www.laxmagazine.co...\n",
       "4    118  Katey says:\\n\\n i bought a glockenspiel\\n\\n\\nN..."
      ]
     },
     "execution_count": 23,
     "metadata": {},
     "output_type": "execute_result"
    }
   ],
   "source": [
    "df_fastaiformat = pd.DataFrame({'label':df_post_and_author.label, 'text':df_post_and_author.text})\n",
    "df_fastaiformat.head()"
   ]
  },
  {
   "cell_type": "code",
   "execution_count": 26,
   "metadata": {},
   "outputs": [
    {
     "data": {
      "text/html": [
       "<div>\n",
       "<style scoped>\n",
       "    .dataframe tbody tr th:only-of-type {\n",
       "        vertical-align: middle;\n",
       "    }\n",
       "\n",
       "    .dataframe tbody tr th {\n",
       "        vertical-align: top;\n",
       "    }\n",
       "\n",
       "    .dataframe thead th {\n",
       "        text-align: right;\n",
       "    }\n",
       "</style>\n",
       "<table border=\"1\" class=\"dataframe\">\n",
       "  <thead>\n",
       "    <tr style=\"text-align: right;\">\n",
       "      <th></th>\n",
       "      <th>label</th>\n",
       "      <th>text</th>\n",
       "    </tr>\n",
       "  </thead>\n",
       "  <tbody>\n",
       "    <tr>\n",
       "      <th>7860</th>\n",
       "      <td>687</td>\n",
       "      <td>for complete information read at [Forex Weekly...</td>\n",
       "    </tr>\n",
       "    <tr>\n",
       "      <th>2302</th>\n",
       "      <td>518</td>\n",
       "      <td>1:1\\n\\nThanks!\\n</td>\n",
       "    </tr>\n",
       "    <tr>\n",
       "      <th>935</th>\n",
       "      <td>116</td>\n",
       "      <td>My mother seems to think that by law if you us...</td>\n",
       "    </tr>\n",
       "    <tr>\n",
       "      <th>963</th>\n",
       "      <td>95</td>\n",
       "      <td>It seems to me that the republicans are going ...</td>\n",
       "    </tr>\n",
       "    <tr>\n",
       "      <th>5170</th>\n",
       "      <td>593</td>\n",
       "      <td>A few rules:\\n\\n\\n\\n* Select any **season 10 -...</td>\n",
       "    </tr>\n",
       "  </tbody>\n",
       "</table>\n",
       "</div>"
      ],
      "text/plain": [
       "      label                                               text\n",
       "7860    687  for complete information read at [Forex Weekly...\n",
       "2302    518                                   1:1\\n\\nThanks!\\n\n",
       "935     116  My mother seems to think that by law if you us...\n",
       "963      95  It seems to me that the republicans are going ...\n",
       "5170    593  A few rules:\\n\\n\\n\\n* Select any **season 10 -..."
      ]
     },
     "execution_count": 26,
     "metadata": {},
     "output_type": "execute_result"
    }
   ],
   "source": [
    "from sklearn.model_selection import train_test_split\n",
    "\n",
    "x_train, x_test, y_train, y_test = train_test_split(df_fastaiformat.text,df_fastaiformat.label,stratify=df_fastaiformat.label)\n",
    "df_fai_train = pd.DataFrame({'label' : y_train, 'text' : x_train})\n",
    "df_fai_test = pd.DataFrame({'label' : y_test, 'text' : x_test})\n",
    "df_fai_train.head()"
   ]
  },
  {
   "cell_type": "code",
   "execution_count": 27,
   "metadata": {},
   "outputs": [],
   "source": [
    "df_fai_train.to_csv('../data/df_authorship_fastai_train.csv')\n",
    "df_fai_test.to_csv('../data/df_authorship_fastai_test.csv')"
   ]
  },
  {
   "cell_type": "code",
   "execution_count": null,
   "metadata": {},
   "outputs": [],
   "source": []
  }
 ],
 "metadata": {
  "kernelspec": {
   "display_name": "Python 3",
   "language": "python",
   "name": "python3"
  },
  "language_info": {
   "codemirror_mode": {
    "name": "ipython",
    "version": 3
   },
   "file_extension": ".py",
   "mimetype": "text/x-python",
   "name": "python",
   "nbconvert_exporter": "python",
   "pygments_lexer": "ipython3",
   "version": "3.6.3"
  }
 },
 "nbformat": 4,
 "nbformat_minor": 2
}
